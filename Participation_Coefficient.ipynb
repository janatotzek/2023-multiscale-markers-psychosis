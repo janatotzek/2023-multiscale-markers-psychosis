{
 "cells": [
  {
   "cell_type": "markdown",
   "id": "fa6ed1a8",
   "metadata": {},
   "source": [
    "# __Longitudinal Inference of Multiscale Markers of Psychosis__\n",
    "# _- From Hippocampal Centrality to Functional Outcome_\n",
    "### Totzek, J. F., Chakravarty, M. M., Joober, R., Malla, A., Shah, J., Young, A. L., Hernaus, D., Lepage, M. & Lavigne, K. M. (accepted). _Molecular Psychiatry_\n",
    "\n",
    "### Calculation of Hippocampal Centrality"
   ]
  },
  {
   "cell_type": "markdown",
   "id": "c0c76fbf",
   "metadata": {},
   "source": [
    "This notebook describes the calculation of the participation coefficient, which assesses the degree of diversity in intra- vs. inter-modular connectivity of each node of a network [Rubinov & Sporns. (2020)](https://doi.org/10.1016/j.neuroimage.2009.10.003).\n",
    "\n",
    "The input data for this step is a 3D matrix with the dimensions 80 x 80 x n. Those matrices represent the subject-specific structural covariance matrices as derived through the Jackknife Bias Estimation procedure [Lavigne & Totzek. (2023)](https://github.com/katielavigne/jackknife_connectivity), for 64 DKT regions + 18 hippocampal regions per participant. "
   ]
  },
  {
   "cell_type": "code",
   "execution_count": null,
   "id": "0f881436",
   "metadata": {},
   "outputs": [],
   "source": [
    "import pandas as pd \n",
    "import seaborn as sns\n",
    "import matplotlib. pyplot as plt\n",
    "import numpy as np "
   ]
  },
  {
   "cell_type": "markdown",
   "id": "4c270033",
   "metadata": {},
   "source": [
    "To calculate the degree of intra- vs. inter-modular connectivity, we first need to assign each DKT regions and each hippocampal region to a module. The 64 DKT regions are assigned to the 7 Yeo networks [Yeo et al. (2011)](https://doi.org/10.1152/jn.00338.2011) as first described by [Makowski et al. (2020)](https://doi.org/10.1002/hipo.23215)."
   ]
  },
  {
   "cell_type": "code",
   "execution_count": null,
   "id": "efca81eb",
   "metadata": {},
   "outputs": [],
   "source": [
    "# load the 3D subject-specific structural covariance matrices \n",
    "# output of the Jackknife Bias Estimation procedure\n",
    "\n",
    "jackknife_controls = np.load('/Users/jana/multiscale_markers/jackknife_contr_both.npy')\n",
    "jackknife_patients = np.load('/Users/jana/multiscale_markers/jackknife_pat_both.npy')"
   ]
  },
  {
   "cell_type": "code",
   "execution_count": null,
   "id": "2e925e63",
   "metadata": {},
   "outputs": [],
   "source": [
    "#For the file assigning the cortical and hippocampal regions to the modules, see code below \n",
    "#The .xlsx file only has two rows, but the columns do not have names in the actual file but numbers from 1 - 80\n",
    "#But DKT regions are ordered based on the file found under katielavigne/jackknife_connectivity/DKT.csv\n",
    "#the first 62 regions are thus the DKT regions, assigned to one of the 7 Yeo networks (see Makowski et al., 2020)\n",
    "#the last 18 regions are the MAGeT derived hippocampal regions, all belonging to their own 8th module (see Makowski et al., 2020)\n",
    "DKTYeo = pd.read_excel('/Users/jana/multiscale_markers/DKT_to_Yeo_March2024.xlsx')\n",
    "ci = np.array(DKTYeo)"
   ]
  },
  {
   "cell_type": "code",
   "execution_count": null,
   "id": "ebed2e3d",
   "metadata": {},
   "outputs": [],
   "source": [
    "#now we need to import the brain connectivity toolbox \n",
    "import bct "
   ]
  },
  {
   "cell_type": "code",
   "execution_count": null,
   "id": "7267eeee",
   "metadata": {},
   "outputs": [],
   "source": [
    "partcoef_con=[]\n",
    "for i in jackknife_controls:\n",
    "    a_controls = bct.participation_coef(i, ci)\n",
    "    partcoef_con.append(a_controls)\n",
    "\n",
    "participation_coefficient_controls = pd.DataFrame(partcoef_con)"
   ]
  },
  {
   "cell_type": "code",
   "execution_count": null,
   "id": "cc19d443",
   "metadata": {},
   "outputs": [],
   "source": [
    "#check if it was a problem that they were in the same cell \n",
    "partcoef_pat=[]\n",
    "for i in jackknife_patients:\n",
    "    a_patients = bct.participation_coef(i, ci)\n",
    "    partcoef_pat.append(a_patients)\n",
    "\n",
    "participation_coefficient_patients = pd.DataFrame(partcoef_pat)"
   ]
  },
  {
   "cell_type": "code",
   "execution_count": null,
   "id": "91eb6b3a",
   "metadata": {},
   "outputs": [],
   "source": [
    "participation_coefficient_controls.to_excel(\"ParticipationCoefficient_Controls.xlsx\")\n",
    "participation_coefficient_patients.to_excel(\"ParticipationCoefficient_Patients.xlsx\")"
   ]
  },
  {
   "cell_type": "code",
   "execution_count": null,
   "id": "146aa237",
   "metadata": {},
   "outputs": [],
   "source": [
    "#The results of the Jackknife and the Participation Coefficient just output a dataframe with values\n",
    "#make sure to add subject IDs and the name of the brain regions\n",
    "#for this analysis, participation coefficient is averaged per hemisphere for patients and controls separately"
   ]
  }
 ],
 "metadata": {
  "kernelspec": {
   "display_name": "Python 3 (ipykernel)",
   "language": "python",
   "name": "python3"
  },
  "language_info": {
   "codemirror_mode": {
    "name": "ipython",
    "version": 3
   },
   "file_extension": ".py",
   "mimetype": "text/x-python",
   "name": "python",
   "nbconvert_exporter": "python",
   "pygments_lexer": "ipython3",
   "version": "3.9.7"
  }
 },
 "nbformat": 4,
 "nbformat_minor": 5
}
